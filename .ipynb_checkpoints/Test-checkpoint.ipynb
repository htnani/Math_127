{
 "cells": [
  {
   "cell_type": "code",
   "execution_count": 53,
   "metadata": {},
   "outputs": [
    {
     "name": "stdout",
     "output_type": "stream",
     "text": [
      "[[ 0.    0.31  1.01  0.75  1.03]\n",
      " [ 0.31  0.    1.    0.69  0.9 ]\n",
      " [ 1.01  1.    0.    0.61  0.42]\n",
      " [ 0.75  0.69  0.61  0.    0.37]\n",
      " [ 1.03  0.9   0.42  0.37  0.  ]]\n"
     ]
    }
   ],
   "source": [
    "import numpy as np\n",
    "n = 5\n",
    "a = np.array([[0,0.31,1.01,0.75,1.03],\n",
    "             [0.31,0,1.00,0.69,0.90],\n",
    "             [1.01,1.00,0,0.61,0.42],\n",
    "             [0.75,0.69,0.61,0,0.37],\n",
    "             [1.03,0.90,0.42,0.37,0]])\n",
    "print (a)"
   ]
  },
  {
   "cell_type": "code",
   "execution_count": 54,
   "metadata": {
    "scrolled": true
   },
   "outputs": [],
   "source": [
    "def compR(array):\n",
    "    Rl=[]\n",
    "    for row in array:\n",
    "        r=np.sum(row)\n",
    "        Rl.append(r)\n",
    "    R=[]\n",
    "    for i in range(5):\n",
    "        for j in range(5):\n",
    "            if i == j:\n",
    "                R.append(0)\n",
    "            else:\n",
    "                R.append(Rl[i]+Rl[j])\n",
    "    R=np.reshape(np.asarray(R),(5,5))\n",
    "    return R\n",
    "R=compR(a)"
   ]
  },
  {
   "cell_type": "code",
   "execution_count": 78,
   "metadata": {},
   "outputs": [
    {
     "name": "stdout",
     "output_type": "stream",
     "text": [
      "Mij table:\n",
      "[[ 0.   -5.07 -3.11 -3.27 -2.73]\n",
      " [-5.07  0.   -2.94 -3.25 -2.92]\n",
      " [-3.11 -2.94  0.   -3.63 -4.5 ]\n",
      " [-3.27 -3.25 -3.63  0.   -4.03]\n",
      " [-2.73 -2.92 -4.5  -4.03  0.  ]]\n"
     ]
    }
   ],
   "source": [
    "def compMij(array,R):\n",
    "    Mij=(n-2)*array-R\n",
    "    print ('Mij table:')\n",
    "    print (Mij)\n",
    "    return Mij\n",
    "    mini, minj = np.where(Mij == np.min(Mij))[0]\n",
    "    print ('ok')\n",
    "    print ('We\\'re gonna join S' + str(mini) + ' and S' + str(minj) + ' in this step')\n",
    "Mij=compMij(a,R)"
   ]
  },
  {
   "cell_type": "code",
   "execution_count": null,
   "metadata": {
    "collapsed": true
   },
   "outputs": [],
   "source": []
  }
 ],
 "metadata": {
  "kernelspec": {
   "display_name": "Python 3",
   "language": "python",
   "name": "python3"
  },
  "language_info": {
   "codemirror_mode": {
    "name": "ipython",
    "version": 3
   },
   "file_extension": ".py",
   "mimetype": "text/x-python",
   "name": "python",
   "nbconvert_exporter": "python",
   "pygments_lexer": "ipython3",
   "version": "3.6.1"
  }
 },
 "nbformat": 4,
 "nbformat_minor": 2
}
