{
 "cells": [
  {
   "cell_type": "code",
   "execution_count": 322,
   "metadata": {
    "scrolled": true
   },
   "outputs": [],
   "source": [
    "import numpy as np\n",
    "import copy\n",
    "######input info\n",
    "n = 5\n",
    "input_order = 'A,B,C,D,E'\n",
    "a = np.array([[0,0.31,1.01,0.75,1.03],\n",
    "             [0.31,0,1.00,0.69,0.90],\n",
    "             [1.01,1.00,0,0.61,0.42],\n",
    "             [0.75,0.69,0.61,0,0.37],\n",
    "             [1.03,0.90,0.42,0.37,0]])\n",
    "'''a = np.array([[0,0.31,1.01,0.75,1.03,0.44],\n",
    "             [0.31,0,1.00,0.69,0.90,0.51],\n",
    "             [1.01,1.00,0,0.61,0.42,0.62],\n",
    "             [0.75,0.69,0.61,0,0.37,0.73],\n",
    "             [1.03,0.90,0.42,0.37,0,0.25],\n",
    "             [0.44,0.51,0.62,0.73,0.25,0]])'''\n",
    "##########\n",
    "#rep=[]\n",
    "allresult=[]\n",
    "order_for_output = input_order.split(',')\n",
    "order = ['_('+i+')_' for i in order_for_output]"
   ]
  },
  {
   "cell_type": "code",
   "execution_count": 323,
   "metadata": {
    "collapsed": true,
    "scrolled": true
   },
   "outputs": [],
   "source": [
    "######step1\n",
    "def compMij(array):\n",
    "######compute R and Rn+Rm matrix\n",
    "    Rl=[]\n",
    "    for row in array:\n",
    "        r=np.sum(row)\n",
    "        Rl.append(r)\n",
    "    R=[]\n",
    "    for i in range(len(order)):\n",
    "        for j in range(len(order)):\n",
    "            if i == j:\n",
    "                R.append(0)\n",
    "            else:\n",
    "                R.append(Rl[i]+Rl[j])\n",
    "    R=np.reshape(np.asarray(R),(len(order),len(order)))\n",
    "    #print (Rl)\n",
    "    #print (R)\n",
    "######compute Mij matrix\n",
    "    Mij=(n-2)*array-R\n",
    "    print ('Mij table:')\n",
    "    print (order_for_output)\n",
    "    print (Mij)\n",
    "######find the min location \n",
    "    mini, minj = np.where(Mij == np.min(Mij))[0]\n",
    "    print ('We\\'re gonna join ' + order_for_output[mini] + ' and ' + order_for_output[minj] + ' in this step and the node is (' + order_for_output[mini] + ',' + order_for_output[minj] +')')\n",
    "    order.append('_('+order[mini]+','+order[minj]+')_')\n",
    "    order_for_output.append('('+order_for_output[mini]+','+order_for_output[minj]+')')\n",
    "    return Rl, mini, minj, order"
   ]
  },
  {
   "cell_type": "code",
   "execution_count": 324,
   "metadata": {
    "collapsed": true
   },
   "outputs": [],
   "source": [
    "#######step2\n",
    "def calGS(array, Rl, mini, minj):\n",
    "######calculate the group distance\n",
    "    GSi=1/(n-2)*(Rl[mini]-array[mini][minj])\n",
    "    GSj=1/(n-2)*(Rl[minj]-array[mini][minj])\n",
    "######3 point formula\n",
    "    vSi=np.around(1/2*(array[mini][minj]+GSi-GSj), decimals=4)\n",
    "    vSj=array[mini][minj]-vSi\n",
    "    print ('distance to the parent: ' + order_for_output[mini] +': ' + str(vSi) + ' ;' + order_for_output[minj] +': ' + str(vSj))\n",
    "    #rep.append((order[mini]+':',str(vSi),',', order[minj]+':',str(vSj),','))\n",
    "    allresult.append((order[mini],order[mini][1:-1]+':'+str(vSi)))\n",
    "    allresult.append((order[minj],order[minj][1:-1]+':'+str(vSj)))"
   ]
  },
  {
   "cell_type": "code",
   "execution_count": 325,
   "metadata": {
    "collapsed": true
   },
   "outputs": [],
   "source": [
    "#######step3\n",
    "def newdisa(array, mini, minj):\n",
    "######calculate the new distance\n",
    "    addeddis=[]\n",
    "    for i in range(len(order)-1):\n",
    "        if i == mini or i == minj:\n",
    "            pass\n",
    "        else:\n",
    "            dis=1/2*(array[i][mini]+array[i][minj]-array[mini][minj])\n",
    "            addeddis.append(dis)\n",
    "######create new dis matrix\n",
    "    array=np.delete(array, mini, 0)\n",
    "    array=np.delete(array, minj-1, 0)\n",
    "    array=np.delete(array, mini, 1)\n",
    "    newarr=np.delete(array, minj-1, 1)\n",
    "    del order[mini], order[minj-1], order_for_output[mini], order_for_output[minj-1]\n",
    "    newarr=np.c_[newarr,addeddis]\n",
    "    addeddis.append(0)\n",
    "    newarr=np.r_['0,2',newarr,addeddis]\n",
    "    print ('updated dis matrix')\n",
    "    print (order_for_output)\n",
    "    print (newarr)\n",
    "    return order, newarr"
   ]
  },
  {
   "cell_type": "code",
   "execution_count": 326,
   "metadata": {},
   "outputs": [],
   "source": [
    "######endgame\n",
    "def endgame(array):\n",
    "    dis0=1/2*(array[0][1]+array[0][2]-array[1][2])\n",
    "    dis1=1/2*(array[0][1]+array[1][2]-array[0][2])\n",
    "    dis2=1/2*(array[1][2]+array[0][2]-array[0][1])\n",
    "    #rep.append((order[0]+':',str(dis0),',',order[1]+':',str(dis1),',',order[2]+':',str(dis2),','))\n",
    "    allresult.append((order[0],order[0][1:-1]+':'+str(dis0)))\n",
    "    allresult.append((order[1],order[1][1:-1]+':'+str(dis1)))\n",
    "    allresult.append((order[2],order[2][1:-1]+':'+str(dis2)))\n",
    "    final_result = order[0]+','+order[1]+','+order[2]\n",
    "    #print ('final results:')\n",
    "    #print (rep)\n",
    "    return final_result"
   ]
  },
  {
   "cell_type": "code",
   "execution_count": 327,
   "metadata": {},
   "outputs": [],
   "source": [
    "#####convert to newick format\n",
    "def do_newick(newick_seq):\n",
    "    strn = 0\n",
    "    bracket_num = 0\n",
    "    for str_string in newick_seq:\n",
    "        try:\n",
    "            if str_string == '_' and newick_seq[strn+1] == '(':\n",
    "                if bracket_num == 0:\n",
    "                    bracket_num_left = copy.deepcopy(strn)\n",
    "                bracket_num += 1\n",
    "            elif str_string == '_' and newick_seq[strn-1] == ')':\n",
    "                bracket_num -= 1\n",
    "                if bracket_num == 0:\n",
    "                    bracket_num_right = copy.deepcopy(strn)\n",
    "                    break\n",
    "        except:\n",
    "            if str_string == '_' and newick_seq[strn-1] == ')':\n",
    "                bracket_num -= 1\n",
    "                if bracket_num == 0:\n",
    "                    bracket_num_right = copy.deepcopy(strn)\n",
    "                    break\n",
    "        strn += 1\n",
    "#####find the replacement\n",
    "    for group in allresult:\n",
    "        if group[0] == newick_seq[bracket_num_left:bracket_num_right+1]:\n",
    "            group_1 = group[1]\n",
    "            break\n",
    "    newick_seq = newick_seq.replace(newick_seq[bracket_num_left:bracket_num_right+1], group_1)\n",
    "    return newick_seq"
   ]
  },
  {
   "cell_type": "code",
   "execution_count": 328,
   "metadata": {
    "scrolled": false
   },
   "outputs": [
    {
     "name": "stdout",
     "output_type": "stream",
     "text": [
      "Mij table:\n",
      "['A', 'B', 'C', 'D', 'E']\n",
      "[[ 0.   -5.07 -3.11 -3.27 -2.73]\n",
      " [-5.07  0.   -2.94 -3.25 -2.92]\n",
      " [-3.11 -2.94  0.   -3.63 -4.5 ]\n",
      " [-3.27 -3.25 -3.63  0.   -4.03]\n",
      " [-2.73 -2.92 -4.5  -4.03  0.  ]]\n",
      "We're gonna join A and B in this step and the node is (A,B)\n",
      "distance to the parent: A: 0.1883 ;B: 0.1217\n",
      "updated dis matrix\n",
      "['C', 'D', 'E', '(A,B)']\n",
      "[[ 0.     0.61   0.42   0.85 ]\n",
      " [ 0.61   0.     0.37   0.565]\n",
      " [ 0.42   0.37   0.     0.81 ]\n",
      " [ 0.85   0.565  0.81   0.   ]]\n",
      "Mij table:\n",
      "['C', 'D', 'E', '(A,B)']\n",
      "[[ 0.    -1.595 -2.22  -1.555]\n",
      " [-1.595  0.    -2.035 -2.075]\n",
      " [-2.22  -2.035  0.    -1.395]\n",
      " [-1.555 -2.075 -1.395  0.   ]]\n",
      "We're gonna join C and E in this step and the node is (C,E)\n",
      "distance to the parent: C: 0.2567 ;E: 0.1633\n",
      "updated dis matrix\n",
      "['D', '(A,B)', '(C,E)']\n",
      "[[ 0.     0.565  0.28 ]\n",
      " [ 0.565  0.     0.62 ]\n",
      " [ 0.28   0.62   0.   ]]\n",
      "The final result in Newick Fomat:\n",
      "(D:0.1125,(A:0.1883,B:0.1217):0.4525,(C:0.2567,E:0.1633):0.1675)\n"
     ]
    }
   ],
   "source": [
    "#######\n",
    "for times in range(n):\n",
    "    Rl, mini, minj, order=compMij(a)\n",
    "    calGS(a,Rl,mini, minj)\n",
    "    order, a=newdisa(a,mini, minj)\n",
    "    if len(order)==3:\n",
    "        break\n",
    "final_result = endgame(a)\n",
    "while '_' in final_result:\n",
    "    final_result = do_newick(final_result)\n",
    "for i in input_order.split(','):\n",
    "    final_result = final_result.replace('('+i+')', i)\n",
    "print ('The final result in Newick Fomat:')\n",
    "print ('('+final_result+');')"
   ]
  },
  {
   "cell_type": "code",
   "execution_count": null,
   "metadata": {
    "collapsed": true
   },
   "outputs": [],
   "source": []
  }
 ],
 "metadata": {
  "kernelspec": {
   "display_name": "Python 3",
   "language": "python",
   "name": "python3"
  },
  "language_info": {
   "codemirror_mode": {
    "name": "ipython",
    "version": 3
   },
   "file_extension": ".py",
   "mimetype": "text/x-python",
   "name": "python",
   "nbconvert_exporter": "python",
   "pygments_lexer": "ipython3",
   "version": "3.6.1"
  }
 },
 "nbformat": 4,
 "nbformat_minor": 2
}
